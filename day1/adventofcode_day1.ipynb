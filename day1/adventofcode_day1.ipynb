{
 "cells": [
  {
   "cell_type": "code",
   "execution_count": 37,
   "metadata": {
    "collapsed": false
   },
   "outputs": [],
   "source": [
    "import unittest\n",
    "import getpass\n",
    "import urllib2"
   ]
  },
  {
   "cell_type": "code",
   "execution_count": 17,
   "metadata": {
    "collapsed": false
   },
   "outputs": [],
   "source": [
    "def decode_floor(str):\n",
    "    \"\"\"Return the destination floor for a given instruction string.\"\"\"\n",
    "    return len(str) - 2*str.count(')')"
   ]
  },
  {
   "cell_type": "code",
   "execution_count": 18,
   "metadata": {
    "collapsed": false
   },
   "outputs": [
    {
     "data": {
      "text/plain": [
       "2"
      ]
     },
     "execution_count": 18,
     "metadata": {},
     "output_type": "execute_result"
    }
   ],
   "source": [
    "decode_floor('((()')"
   ]
  },
  {
   "cell_type": "code",
   "execution_count": 25,
   "metadata": {
    "collapsed": false
   },
   "outputs": [],
   "source": [
    "class TestDF(unittest.TestCase):\n",
    "    def test_empty(self):\n",
    "        self.assertEqual(decode_floor(''), 0)\n",
    "        \n",
    "    def test_pos1(self):\n",
    "        self.assertEqual(decode_floor('((('), 3)\n",
    "    \n",
    "    def test_neg1(self):\n",
    "        self.assertEqual(decode_floor(')))))'),-5)\n",
    "        \n",
    "    def test_even1(self):\n",
    "        self.assertEqual(decode_floor('(())))'),-2)\n",
    "        \n",
    "    def test_odd(self):\n",
    "        self.assertEqual(decode_floor(')())((('),1)\n",
    "\n",
    "\n",
    "    # The original tests from Day 1:\n",
    "    def test_aoc1(self):\n",
    "        self.assertEqual(decode_floor('(())'), 0)\n",
    "    def test_aoc2(self):\n",
    "        self.assertEqual(decode_floor('()()'), 0)\n",
    "    def test_aoc3(self):\n",
    "        self.assertEqual(decode_floor('((('), 3)\n",
    "    def test_aoc4(self):\n",
    "        self.assertEqual(decode_floor('(()(()('), 3)\n",
    "    def test_aoc5(self):\n",
    "        self.assertEqual(decode_floor('))((((('), 3)\n",
    "    def test_aoc6(self):\n",
    "        self.assertEqual(decode_floor('())'), -1)\n",
    "    def test_aoc7(self):\n",
    "        self.assertEqual(decode_floor('))('), -1)\n",
    "    def test_aoc8(self):\n",
    "        self.assertEqual(decode_floor(')))'), -3)\n",
    "    def test_aoc9(self):\n",
    "        self.assertEqual(decode_floor(')())())'), -3)\n"
   ]
  },
  {
   "cell_type": "code",
   "execution_count": 31,
   "metadata": {
    "collapsed": false
   },
   "outputs": [
    {
     "name": "stderr",
     "output_type": "stream",
     "text": [
      "test_aoc1 (__main__.TestDF) ... ok\n",
      "test_aoc2 (__main__.TestDF) ... ok\n",
      "test_aoc3 (__main__.TestDF) ... ok\n",
      "test_aoc4 (__main__.TestDF) ... ok\n",
      "test_aoc5 (__main__.TestDF) ... ok\n",
      "test_aoc6 (__main__.TestDF) ... ok\n",
      "test_aoc7 (__main__.TestDF) ... ok\n",
      "test_aoc8 (__main__.TestDF) ... ok\n",
      "test_aoc9 (__main__.TestDF) ... ok\n",
      "test_empty (__main__.TestDF) ... ok\n",
      "test_even1 (__main__.TestDF) ... ok\n",
      "test_neg1 (__main__.TestDF) ... ok\n",
      "test_odd (__main__.TestDF) ... ok\n",
      "test_pos1 (__main__.TestDF) ... ok\n",
      "\n",
      "----------------------------------------------------------------------\n",
      "Ran 14 tests in 0.011s\n",
      "\n",
      "OK\n"
     ]
    },
    {
     "data": {
      "text/plain": [
       "<unittest.runner.TextTestResult run=14 errors=0 failures=0>"
      ]
     },
     "execution_count": 31,
     "metadata": {},
     "output_type": "execute_result"
    }
   ],
   "source": [
    "suite = unittest.TestLoader().loadTestsFromTestCase(TestDF)\n",
    "unittest.TextTestRunner(verbosity=2).run(suite)"
   ]
  },
  {
   "cell_type": "code",
   "execution_count": 47,
   "metadata": {
    "collapsed": false
   },
   "outputs": [
    {
     "name": "stdout",
     "output_type": "stream",
     "text": [
      "Enter your GitHub username:arthurvd\n",
      "Enter your GitHub password:········\n"
     ]
    }
   ],
   "source": [
    "# Get username + password to get personal assignment\n",
    "username = raw_input('Enter your GitHub username:')\n",
    "password = getpass.getpass('Enter your GitHub password:')\n",
    "\n",
    "# create a password manager\n",
    "password_mgr = urllib2.HTTPPasswordMgrWithDefaultRealm()\n",
    "\n",
    "# Add the username and password.\n",
    "# If we knew the realm, we could use it instead of None.\n",
    "personal_url = \"http://www.van-dam.net\"\n",
    "password_mgr.add_password(None, personal_url, username, password)\n",
    "\n",
    "# Deleting does not make this any safer: password_mgr is fully readable. But anyway...\n",
    "del username, password"
   ]
  },
  {
   "cell_type": "code",
   "execution_count": 52,
   "metadata": {
    "collapsed": false
   },
   "outputs": [
    {
     "name": "stdout",
     "output_type": "stream",
     "text": [
      "Received personal instruction string successfully:\n",
      "<html>\n",
      "<head>\n",
      "    <title>van-dam.net : Welkom</title>\n",
      "    <link rel=\"stylesheet\" type=\"text/css\" href=\"vandamnet.css\">\n",
      "</head>\n",
      "<body>\n",
      "<table border=\"0\" width=\"100%\" cellpadding=\"5\" cellspacing=\"0\">\n",
      "<tr><td>\n",
      "    <div class=\"bbox-fullwidth\">\n",
      "    <center>\n",
      "    <img src=\"/images/vandamnet_header_jeugd3.png\" width=800 height=108><br />\n",
      "    <a href=\"/index.php?ht=all\">(Verander titel)</a>\n",
      "    </center>\n",
      "    </div>\n",
      "    </td>\n",
      "</tr>\n",
      "</table>\n",
      "<table border=\"0\" width=\"100%\" cellpadding=\"5\" cellspacing=\"0\">\n",
      "<tr>\n",
      "<td>\n",
      "<div class=\"bbox-fullwidth\">\n",
      "    <table border=\"0\" width=\"100%\"><tr><td><a href=\"/index.php\">Voorpagina</a>&nbsp;&nbsp;::&nbsp;&nbsp;<a href=\"/stamboom.php\">Familie-achtergrond</a>&nbsp;&nbsp;::&nbsp;&nbsp;<a href=\"/dekolom/index.php\">Archief 'De Kolom'</a>&nbsp;&nbsp;::&nbsp;&nbsp;<a href=\"/scripts/gastenboek/gastenboek.php\">Gastenboek</a></td><td align=\"right\"><a href=\"/intern/\">Interne Pagina</a>&nbsp;&nbsp;::&nbsp;&nbsp;<a href=\"/intern/dvdetv/index.php\">DVDETV</a>&nbsp;&nbsp;::&nbsp;&nbsp;<a href=\"/intern/phpBB2/index.php\">Intern Forum</a></td></tr></table>\n",
      "    </div></td>\n",
      "</tr>\n",
      "</table>\n",
      "<table border=\"0\" width=\"100%\" cellpadding=\"5\" cellspacing=\"0\">\n",
      "<tr>\n",
      "<td valign=\"top\" width=\"*\">\n",
      "    <div class=\"bbox-fullwidth\">\n",
      "    <h1>Welkom op van-dam.net</h1>\n",
      "    <p>Dit is de homepage van de familie van dam. Welke familie van Dam; er zijn er zoveel? Nou, denk maar richting Stolwijk, dan kom je in de buurt.<br/>\n",
      "    We hebben ook wat <a href=\"stamboom.php\">korte achtergrond info en een stukje stamboom</a>.</p>\n",
      "<!--    <H3>Laat wat van je horen!</H3>\n",
      "    We hebben een openbaar gastenboek! Klik hier en <A href=\"scripts/gastenboek/gastenboek.php\">schrijf er wat leuks in!</A>-->\n",
      "    </div>\n",
      "    <br />\n",
      "    <div class=\"bbox-fullwidth\">\n",
      "    <h2>Diverse homepages:</h2>\n",
      "    <table border=\"0\">\n",
      "    <tr>\n",
      "    <td width=\"100\"><a href=\"http://twitter.com/jtvd\"><img src=\"images/jeroen_webhome_icon.gif\" alt=\"Jeroens WebHome\" border=\"0\"></a></td>\n",
      "    <td width=\"100\"><A href=\"http://arthur.van-dam.net/\"><img src=\"images/arthur_webhome_icon.gif\" alt=\"Arthurs WebHome\" border=\"0\"></a></td>\n",
      "    <td width=\"100\"><A href=\"http://www.jaspervanmaaren.nl\"><img src=\"images/jasper_webhome_icon2.gif\" alt=\"Jaspers WebHome\" border=\"0\"></a></td>\n",
      "    <td width=\"100\"><A href=\"/dekolom/bobbievanmaaren.php\"><img src=\"images/bobbieface_webhome_icon.gif\" alt=\"Bobbie van maaren\" border=\"0\"></a></td>\n",
      "    <td width=\"100\"></td>\n",
      "<!--<A href=\"http://john.van-dam.net/\"><img src=\"images/john_webhome_icon.gif\" alt=\"Johns WebHome\" border=\"0\"></a></td>-->\n",
      "    </tr>\n",
      "    <tr>\n",
      "    <td width=\"100\"><A href=\"http://www.countrygazette.nl\"><img src=\"images/cg_webhome_icon.gif\" alt=\"Website Country Gazette\" border=\"0\"></a></td>\n",
      "    <td width=\"100\"><A href=\"http://www.kindercentrumdeschaapskooi.nl/\"><img src=\"images/ina_webhome_icon.gif\" alt=\"Kindercentrum De Schaapskooi\" border=\"0\"></a></td>\n",
      "    <td width=\"100\"></td>\n",
      "    <td width=\"100\"></td>\n",
      "    <td width=\"100\"></td>\n",
      "    </tr>\n",
      "<!--\n",
      "<A href=\"http://www.patientenbelangen.nl\"><img src=\"images/teus_webhome_icon.gif\" alt=\"Website Stichting Pati�ntenbelangen Orthopaedie\" border=\"0\"></a></td>\n",
      "<A href=\"http://www.horizon-jeugdzorg.nl\"><img src=\"images/norma_webhome_icon.gif\" alt=\"Horizon Jeugdzorg\" border=\"0\"></a></td>\n",
      "<A href=\"http://www.restaurant-thuis.nl\"><img src=\"images/restthuis_webhome_icon.gif\" alt=\"Restaurant-thuis.nl\" border=\"0\"></a></td>\n",
      "-->\n",
      "<!--    <tr>\n",
      "    <td width=\"100\"><A href=\"http://www.jaspervanmaaren.nl\"><img src=\"images/jasper_webhome_icon.gif\" alt=\"Jaspers WebHome\" border=\"0\"></a></td>\n",
      "    <td width=\"100\"></td>\n",
      "    <td width=\"100\"></td>\n",
      "    <td width=\"100\"></td>\n",
      "    <td width=\"100\"></td>\n",
      "    <td width=\"100\"></td>\n",
      "    </tr>\n",
      "-->\n",
      "    </table>\n",
      "    </div>\n",
      "<!--\n",
      "    <ul>\n",
      "      <li>Homepage Jeroen van Dam: <a href=\"http://vt.shuis.tudelft.nl/~jeroen/\">http://vt.shuis.tudelft.nl/ ~jeroen/</a></li>\n",
      "      <li>Homepage John van Dam: <a href=\"http://www.geocities.com/sjonnievandam/\">http://www.geocities.com/ sjonnievandam/</a></li>\n",
      "      <li>Homepage Arthur van Dam: <a href=\"http://www.eye-home.net/\">http://www.eye-home.net/</a></li>\n",
      "      <li>Country Gazette (Hans en Janny van Dam): <a href=\"http://countrygazette.outback-nl.com/\">http://countrygazette.outback-nl.com/</a></li>\n",
      "      <li>Ina staat ook al op internet: <a href=\"http://www.kiddo.net/pdf/okiddo/okiddo17a.pdf\">http://www.kiddo.net/ pdf/okiddo/okiddo17a.pdf</a></li>\n",
      "    </ul>\n",
      "-->\n",
      "    <br />\n",
      "    <div class=\"bbox-fullwidth\">\n",
      "    <H2>Nieuws</H2>\n",
      "    <H3>Intern Forum</H3>\n",
      "    <p>Ter vervanging van het gebabbel op het openbare en interne gastenboek kunnen familieleden nu hun ei kwijt op het <a href=\"intern/phpBB2/index.php\">Interne Forum</a>. Veel plezier aldaar!</p>\n",
      "\n",
      "    <H3>Voor familie-leden (en enkele geluksvogels)</H3>\n",
      "    <a href=\"intern/dvdetv/index.php\"><img src=\"images/dvdetv1516_logo_ylw.gif\" width=\"400\" height=\"150\" border=\"0\"></a>\n",
      "    <br />\n",
      "    <b>Nieuwe jaargang! :</b> Ooit gestart door Marcel, en nu al weer jaren gerund door Erik, de spannendste voetbalcompetitie van de laatste jaren.<br />\n",
      "    [<a href=\"intern/dvdetv/index.php\">DVDETV online overzichten</a>]\n",
      "    </div>\n",
      "</td>\n",
      "<td valign=\"top\" width=\"300\">\n",
      "<table width=\"300\" align=\"left\" border=0 cellspacing=0 cellpadding=0 class=\"bbox-tight\">\n",
      "<tr><td>\n",
      "<table width=\"300\" align=\"right\" border=0 cellspacing=0 cellpadding=0>\n",
      "<col width=113><col width=1><col width=186>\n",
      "<tr>\n",
      "<td rowspan=4 width=113>\n",
      "    <img src=\"/images/de_kolom.gif\" width=113 height=118 alt=\"De Kolom logo\"></td>\n",
      "<td colspan=2 width=187>\n",
      "    <img src=\"/images/spacer.gif\" width=187 height=1 alt=\"spacer\"></td>\n",
      "</tr>\n",
      "<tr>\n",
      "<td width=1>\n",
      "    <img src=\"/images/spacer.gif\" width=1 height=30 alt=\"spacer\"></td>\n",
      "<td width=186 valign=\"top\" align=\"right\">[<a href=\"/dekolom/dekolom_117.php?pf=on\">Klik hier voor print-versie</a>]&nbsp;</td>\n",
      "</tr>\n",
      "\n",
      "<tr>\n",
      "<td colspan=2 width=187 class=\"B\">\n",
      "    <img src=\"/images/black.gif\" width=187 height=31 alt=\"spacer\"></td>\n",
      "</tr>\n",
      "<tr>\n",
      "<td width=1>\n",
      "    <img src=\"/images/spacer.gif\" width=1 height=56 alt=\"spacer\"></td>\n",
      "<td width=186 valign=\"top\" align=\"right\">\n",
      "    <span class=\"kolom-subhead\">117:&nbsp;&nbsp;Hans<br />1-5-2014</span></td>\n",
      "</tr>\n",
      "</table>\n",
      "</td></tr><tr><td>\n",
      "<table width=\"300\" align=\"right\" cellspacing=0 cellpadding=0>\n",
      "<col width=40><col width=260>\n",
      "<tr>\n",
      "<td width=40>\n",
      "    <img src=\"/images/spacer.gif\" width=40 height=1 alt=\"spacer\"></td>\n",
      "<td width=260 valign=\"top\" align=\"left\" class=\"kolom\">\n",
      "<img src=\"/images/spacer.gif\" width=260 height=1 alt=\"spacer\"><br />\n",
      "<h1 style=\"font-style: normal;\">Het lentegevoel van... Hans van Dam</h1>\n",
      "<p>\n",
      "Wanneer begint de lente?  Volgens de kalender begon het dit jaar op 20 maart om 17.57 uur. Weerkundigen houden gemakshalve 1 maart aan. De eerste opwarmende zonnestralen beleef ik als 'naturel drugs'. De tuinstoelen gaan naar buiten en net als een reptiel word ik na opwarming superactief. De lente zelf heeft z.n eigen regels, die begon al in december, na een verbond  te hebben gesloten met de herfst: \"we geven de winter geen kans\".  Planten reageerden, raapzaad, kamille en tientallen andere planten bloeiden gewoon de winter door.  Een dotterbloem op het heempad presteerde het  om vanaf oktober zonder onderbreking tot eind april bloemen voort te brengen. Robertskruid, in de luwte bij mijn voordeur op het noorden, stond in januari al in bloei en ziet er  vitaal genoeg uit om bloeiend de zomer te  halen. Fluitenkruid, dagkoekoeksbloem en berenklauw overwinterden bloeiend. De eerste korenbloem en bolderik bloeiden al op 21 maart. Zij verdienen allemaal de ereprijs van deze prachtige lente. Beleef de lente buiten, in de natuur.\n",
      "</p>\n",
      "\n",
      "<h4>Ontregeld</h4>\n",
      "<p>\n",
      "Een natuurmens raakt ontregeld door deze seizoenomstrengeling. Schaatsliefhebbers moesten genoegen nemen met bewegende beelden op TV. Winterklussen worden uitgesteld tot de volgende winter.  Vetbollen, in december gekocht, werden pas in maart opgehangen. Ik hang ze  op als de winter invalt maar die viel niet in. Vetbollen,  2 aan een touwtje gebonden,  gooi ik zo hoog mogelijk in de boom. Een vink in de naastgelegen boom deed verschrikt zijn eerste vinkenslag. Het klonk me in de oren  als:  die-die-die-die DIE IS GEK!  Mijn lentegevoel als vogelaar begint als de eerste tjiftjaf  zich laat horen. Dat was dit jaar op 10 maart. Ik ben niet zo.n vogelaar die alle eerstelingen noteer en doorgeef aan de fenolijn van Vroege Vogels, daar ben ik te chaotisch voor. Soms zijn er waarnemingen  en dan denk ik, h�, die hoorde ik twee weken geleden al. Vogels zijn dit jaar niet vroeger, weten zij in Afrika veel dat het hier al lente is. De mens gluurt wel maar communiceert niet met de natuur.<br/>\n",
      "Bij de RAVON begon de lente op 19 februari, toen de eerste paaiende beekprikken werden gevonden. Mijn eerste amfibie waarnemingen zijn meestal dramatisch. De eerste doodgereden pad zag ik al in februari, de eerste kikkerdril half maart. Ringslangen vonden we zonnend in de graskant op 9 april. Het is prachtig om de volgorde van de vogelzang te volgen. De zanglijster begon al in december, de roodborst zingt als hij zin heeft en als die wintergast<br/>\n",
      "weg is komt de zwartkop er in zijn plaats. Na de tjiftjaf volgt de fitis, de tuinfluiter en met wat geluk pas in mei de spotvogel. Het mooiste lentegevoel is de vogelzang en als je na enige oefening de geluiden herkent, dan kan je de ogen gaan gebruiken voor de plantjes.\n",
      "</p>\n",
      "\n",
      "<h4>Nieuw leven</h4>\n",
      "<p>\n",
      "Heel enthousiast word ik als in het vroege voorjaar al die jonge blaadjes weer zie komen.\n",
      "Ik kan honderd uit praten over al die kleine groene blaadjes omdat ik uit voorkennis al weet\n",
      "hoe ze heten, hoe ze groeien, bloeien en  welke kleur ze krijgen. Voorkennis, in de zakenwereld zou je gestraft worden, maar ik mag er ongeremd over praten. Mijn zelfingenomenheid wordt afgestraft door de woekeraars, die ook willen leven en groeien.  Legers van kleefkruid en haagwinde steken hun kopjes boven het gras uit en pakken de dichtbijstaande planten om daar kronkelend overheen te groeien.  Als je even niet oplet nemen de woekeraars de regie over, het gevecht om de beste plaats. Veel werk, ook dat is voorjaar.<br/>\n",
      "Lente betekent tuin omspitten, zaadplan uitvoeren, de eerste snoei en het beheersbaar houden.\n",
      "Wees vriendelijk voor de natuur, verricht geen onnodig werk, de natuur kan veel zelf. Het is ongekend dat al die kleine groene blaadjes in enkele maanden tijd tot forse planten gaan uitgroeien. Wat hebben we een mooie lange lente, van mij mag dit tot juli gaan duren.<br/>\n",
      "Wat  een rijk gevoel om deze passie voor planten te hebben. Mijn enthousiasme en kennis te kunnen delen met zoveel mogelijk bezoekers van het heempad in Boskoop. \n",
      "</p>\n",
      "<p class=\"kolom-comment\">\n",
      "J.T. staat nog steeds op de (perkament-)rol!\n",
      "</p>\n",
      "</td>\n",
      "</tr>\n",
      "</table>\n",
      "</td>\n",
      "</tr>\n",
      "</table>\n",
      "</td>\n",
      "</tr>\n",
      "</table>\n",
      "</body>\n",
      "</html>\n",
      "\n"
     ]
    }
   ],
   "source": [
    "handler = urllib2.HTTPBasicAuthHandler(password_mgr)\n",
    "\n",
    "# create \"opener\" (OpenerDirector instance)\n",
    "opener = urllib2.build_opener(handler)\n",
    "opener.open(personal_url)\n",
    "\n",
    "# Install the opener.\n",
    "# Now all calls to urllib2.urlopen use our opener.\n",
    "urllib2.install_opener(opener)\n",
    "\n",
    "req = urllib2.Request(personal_url)\n",
    "try:\n",
    "    response = urllib2.urlopen(req)\n",
    "except urllib2.URLError as e:\n",
    "    if hasattr(e, 'reason'):\n",
    "        print 'We failed to reach a server.'\n",
    "        print 'Reason: ', e.reason\n",
    "    elif hasattr(e, 'code'):\n",
    "        print 'The server couldn\\'t fulfill the request.'\n",
    "        print 'Error code: ', e.code\n",
    "else:\n",
    "    # everything is fine\n",
    "    personal_str = response.read()\n",
    "    print 'Received personal instruction string successfully:'\n",
    "    print personal_str"
   ]
  },
  {
   "cell_type": "code",
   "execution_count": null,
   "metadata": {
    "collapsed": true
   },
   "outputs": [],
   "source": []
  },
  {
   "cell_type": "code",
   "execution_count": null,
   "metadata": {
    "collapsed": true
   },
   "outputs": [],
   "source": []
  }
 ],
 "metadata": {
  "kernelspec": {
   "display_name": "Python 2",
   "language": "python",
   "name": "python2"
  },
  "language_info": {
   "codemirror_mode": {
    "name": "ipython",
    "version": 2
   },
   "file_extension": ".py",
   "mimetype": "text/x-python",
   "name": "python",
   "nbconvert_exporter": "python",
   "pygments_lexer": "ipython2",
   "version": "2.7.10"
  }
 },
 "nbformat": 4,
 "nbformat_minor": 0
}
