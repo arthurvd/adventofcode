{
 "cells": [
  {
   "cell_type": "code",
   "execution_count": 17,
   "metadata": {
    "collapsed": false
   },
   "outputs": [],
   "source": [
    "def decode_floor(str):\n",
    "    \"\"\"Return the destination floor for a given instruction string.\"\"\"\n",
    "    return len(str) - 2*str.count(')')"
   ]
  },
  {
   "cell_type": "code",
   "execution_count": 18,
   "metadata": {
    "collapsed": false
   },
   "outputs": [
    {
     "data": {
      "text/plain": [
       "2"
      ]
     },
     "execution_count": 18,
     "metadata": {},
     "output_type": "execute_result"
    }
   ],
   "source": [
    "decode_floor('((()')"
   ]
  },
  {
   "cell_type": "code",
   "execution_count": 19,
   "metadata": {
    "collapsed": true
   },
   "outputs": [],
   "source": [
    "import unittest"
   ]
  },
  {
   "cell_type": "code",
   "execution_count": 25,
   "metadata": {
    "collapsed": false
   },
   "outputs": [],
   "source": [
    "class TestDF(unittest.TestCase):\n",
    "    def test_empty(self):\n",
    "        self.assertEqual(decode_floor(''), 0)\n",
    "        \n",
    "    def test_pos1(self):\n",
    "        self.assertEqual(decode_floor('((('), 3)\n",
    "    \n",
    "    def test_neg1(self):\n",
    "        self.assertEqual(decode_floor(')))))'),-5)\n",
    "        \n",
    "    def test_even1(self):\n",
    "        self.assertEqual(decode_floor('(())))'),-2)\n",
    "        \n",
    "    def test_odd(self):\n",
    "        self.assertEqual(decode_floor(')())((('),1)\n",
    "\n",
    "\n",
    "    # The original tests from Day 1:\n",
    "    def test_aoc1(self):\n",
    "        self.assertEqual(decode_floor('(())'), 0)\n",
    "    def test_aoc2(self):\n",
    "        self.assertEqual(decode_floor('()()'), 0)\n",
    "    def test_aoc3(self):\n",
    "        self.assertEqual(decode_floor('((('), 3)\n",
    "    def test_aoc4(self):\n",
    "        self.assertEqual(decode_floor('(()(()('), 3)\n",
    "    def test_aoc5(self):\n",
    "        self.assertEqual(decode_floor('))((((('), 3)\n",
    "    def test_aoc6(self):\n",
    "        self.assertEqual(decode_floor('())'), -1)\n",
    "    def test_aoc7(self):\n",
    "        self.assertEqual(decode_floor('))('), -1)\n",
    "    def test_aoc8(self):\n",
    "        self.assertEqual(decode_floor(')))'), -3)\n",
    "    def test_aoc9(self):\n",
    "        self.assertEqual(decode_floor(')())())'), -3)\n"
   ]
  },
  {
   "cell_type": "code",
   "execution_count": 31,
   "metadata": {
    "collapsed": false
   },
   "outputs": [
    {
     "name": "stderr",
     "output_type": "stream",
     "text": [
      "test_aoc1 (__main__.TestDF) ... ok\n",
      "test_aoc2 (__main__.TestDF) ... ok\n",
      "test_aoc3 (__main__.TestDF) ... ok\n",
      "test_aoc4 (__main__.TestDF) ... ok\n",
      "test_aoc5 (__main__.TestDF) ... ok\n",
      "test_aoc6 (__main__.TestDF) ... ok\n",
      "test_aoc7 (__main__.TestDF) ... ok\n",
      "test_aoc8 (__main__.TestDF) ... ok\n",
      "test_aoc9 (__main__.TestDF) ... ok\n",
      "test_empty (__main__.TestDF) ... ok\n",
      "test_even1 (__main__.TestDF) ... ok\n",
      "test_neg1 (__main__.TestDF) ... ok\n",
      "test_odd (__main__.TestDF) ... ok\n",
      "test_pos1 (__main__.TestDF) ... ok\n",
      "\n",
      "----------------------------------------------------------------------\n",
      "Ran 14 tests in 0.011s\n",
      "\n",
      "OK\n"
     ]
    },
    {
     "data": {
      "text/plain": [
       "<unittest.runner.TextTestResult run=14 errors=0 failures=0>"
      ]
     },
     "execution_count": 31,
     "metadata": {},
     "output_type": "execute_result"
    }
   ],
   "source": [
    "suite = unittest.TestLoader().loadTestsFromTestCase(TestDF)\n",
    "unittest.TextTestRunner(verbosity=2).run(suite)"
   ]
  },
  {
   "cell_type": "code",
   "execution_count": null,
   "metadata": {
    "collapsed": true
   },
   "outputs": [],
   "source": []
  }
 ],
 "metadata": {
  "kernelspec": {
   "display_name": "Python 2",
   "language": "python",
   "name": "python2"
  },
  "language_info": {
   "codemirror_mode": {
    "name": "ipython",
    "version": 2
   },
   "file_extension": ".py",
   "mimetype": "text/x-python",
   "name": "python",
   "nbconvert_exporter": "python",
   "pygments_lexer": "ipython2",
   "version": "2.7.10"
  }
 },
 "nbformat": 4,
 "nbformat_minor": 0
}
