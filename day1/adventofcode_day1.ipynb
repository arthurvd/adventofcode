{
 "cells": [
  {
   "cell_type": "code",
   "execution_count": 1,
   "metadata": {
    "collapsed": false
   },
   "outputs": [],
   "source": [
    "import unittest\n",
    "import getpass\n",
    "import urllib2"
   ]
  },
  {
   "cell_type": "code",
   "execution_count": 2,
   "metadata": {
    "collapsed": false
   },
   "outputs": [],
   "source": [
    "def decode_floor(str):\n",
    "    \"\"\"Return the destination floor for a given instruction string.\"\"\"\n",
    "    return len(str) - 2*str.count(')')"
   ]
  },
  {
   "cell_type": "code",
   "execution_count": 3,
   "metadata": {
    "collapsed": false
   },
   "outputs": [
    {
     "data": {
      "text/plain": [
       "2"
      ]
     },
     "execution_count": 3,
     "metadata": {},
     "output_type": "execute_result"
    }
   ],
   "source": [
    "decode_floor('((()')"
   ]
  },
  {
   "cell_type": "code",
   "execution_count": 4,
   "metadata": {
    "collapsed": false
   },
   "outputs": [],
   "source": [
    "class TestDF(unittest.TestCase):\n",
    "    def test_empty(self):\n",
    "        self.assertEqual(decode_floor(''), 0)\n",
    "        \n",
    "    def test_pos1(self):\n",
    "        self.assertEqual(decode_floor('((('), 3)\n",
    "    \n",
    "    def test_neg1(self):\n",
    "        self.assertEqual(decode_floor(')))))'),-5)\n",
    "        \n",
    "    def test_even1(self):\n",
    "        self.assertEqual(decode_floor('(())))'),-2)\n",
    "        \n",
    "    def test_odd(self):\n",
    "        self.assertEqual(decode_floor(')())((('),1)\n",
    "\n",
    "\n",
    "    # The original tests from Day 1:\n",
    "    def test_aoc1(self):\n",
    "        self.assertEqual(decode_floor('(())'), 0)\n",
    "    def test_aoc2(self):\n",
    "        self.assertEqual(decode_floor('()()'), 0)\n",
    "    def test_aoc3(self):\n",
    "        self.assertEqual(decode_floor('((('), 3)\n",
    "    def test_aoc4(self):\n",
    "        self.assertEqual(decode_floor('(()(()('), 3)\n",
    "    def test_aoc5(self):\n",
    "        self.assertEqual(decode_floor('))((((('), 3)\n",
    "    def test_aoc6(self):\n",
    "        self.assertEqual(decode_floor('())'), -1)\n",
    "    def test_aoc7(self):\n",
    "        self.assertEqual(decode_floor('))('), -1)\n",
    "    def test_aoc8(self):\n",
    "        self.assertEqual(decode_floor(')))'), -3)\n",
    "    def test_aoc9(self):\n",
    "        self.assertEqual(decode_floor(')())())'), -3)\n"
   ]
  },
  {
   "cell_type": "code",
   "execution_count": 5,
   "metadata": {
    "collapsed": false
   },
   "outputs": [
    {
     "name": "stderr",
     "output_type": "stream",
     "text": [
      "test_aoc1 (__main__.TestDF) ... ok\n",
      "test_aoc2 (__main__.TestDF) ... ok\n",
      "test_aoc3 (__main__.TestDF) ... ok\n",
      "test_aoc4 (__main__.TestDF) ... ok\n",
      "test_aoc5 (__main__.TestDF) ... ok\n",
      "test_aoc6 (__main__.TestDF) ... ok\n",
      "test_aoc7 (__main__.TestDF) ... ok\n",
      "test_aoc8 (__main__.TestDF) ... ok\n",
      "test_aoc9 (__main__.TestDF) ... ok\n",
      "test_empty (__main__.TestDF) ... ok\n",
      "test_even1 (__main__.TestDF) ... ok\n",
      "test_neg1 (__main__.TestDF) ... ok\n",
      "test_odd (__main__.TestDF) ... ok\n",
      "test_pos1 (__main__.TestDF) ... ok\n",
      "\n",
      "----------------------------------------------------------------------\n",
      "Ran 14 tests in 0.005s\n",
      "\n",
      "OK\n"
     ]
    },
    {
     "data": {
      "text/plain": [
       "<unittest.runner.TextTestResult run=14 errors=0 failures=0>"
      ]
     },
     "execution_count": 5,
     "metadata": {},
     "output_type": "execute_result"
    }
   ],
   "source": [
    "suite = unittest.TestLoader().loadTestsFromTestCase(TestDF)\n",
    "unittest.TextTestRunner(verbosity=2).run(suite)"
   ]
  },
  {
   "cell_type": "code",
   "execution_count": 53,
   "metadata": {
    "collapsed": false
   },
   "outputs": [
    {
     "name": "stdout",
     "output_type": "stream",
     "text": [
      "Enter your GitHub username:arthurvd\n",
      "Enter your GitHub password:········\n"
     ]
    }
   ],
   "source": [
    "# Get username + password to get personal assignment\n",
    "username = raw_input('Enter your GitHub username:')\n",
    "password = getpass.getpass('Enter your GitHub password:')\n",
    "\n",
    "# create a password manager\n",
    "password_mgr = urllib2.HTTPPasswordMgrWithDefaultRealm()\n",
    "\n",
    "# Add the username and password.\n",
    "# If we knew the realm, we could use it instead of None.\n",
    "personal_url = \"http://adventofcode.com/day/1/input\"\n",
    "password_mgr.add_password(None, personal_url, username, password)\n",
    "\n",
    "# Deleting does not make this any safer: password_mgr is fully readable. But anyway...\n",
    "del username, password"
   ]
  },
  {
   "cell_type": "code",
   "execution_count": null,
   "metadata": {
    "collapsed": false
   },
   "outputs": [],
   "source": [
    "# This does not work: gets HTTP 400 status (Bad Request)\n",
    "handler = urllib2.HTTPBasicAuthHandler(password_mgr)\n",
    "\n",
    "# create \"opener\" (OpenerDirector instance)\n",
    "opener = urllib2.build_opener(handler)\n",
    "opener.open(personal_url)\n",
    "urllib2.build_opener\n",
    "# Install the opener.\n",
    "# Now all calls to urllib2.urlopen use our opener.\n",
    "urllib2.install_opener(opener)\n",
    "\n",
    "req = urllib2.Request(personal_url)\n",
    "try:\n",
    "    response = urllib2.urlopen(req)\n",
    "except urllib2.URLError as e:\n",
    "    if hasattr(e, 'reason'):\n",
    "        print 'We failed to reach a server.'\n",
    "        print 'Reason: ', e.reason\n",
    "    elif hasattr(e, 'code'):\n",
    "        print 'The server couldn\\'t fulfill the request.'\n",
    "        print 'Error code: ', e.code\n",
    "else:\n",
    "    # everything is fine\n",
    "    personal_str = response.read()\n",
    "    print 'Received personal instruction string successfully:'\n",
    "    print personal_str"
   ]
  },
  {
   "cell_type": "code",
   "execution_count": null,
   "metadata": {
    "collapsed": false
   },
   "outputs": [],
   "source": [
    "# This does not work: gets HTTP 400 status (Bad Request)\n",
    "personal_str = urllib2.urlopen(personal_url)"
   ]
  },
  {
   "cell_type": "code",
   "execution_count": 6,
   "metadata": {
    "collapsed": true
   },
   "outputs": [],
   "source": [
    "personal_str = '(((())))()((((((((())()(()))(()((((()(()(((()((()((()(()()()()()))(((()(()((((((((((())(()()((())()(((())))()(()(()((()(()))(()()()()((()((()(((()()(((((((()()())()((((()()(((((()(())()(())((())()()))()(((((((())(()())(()(((())(()))((())))(()((()())))()())((((())))(()(((((()(())(((()()((()((()((((((((((())(()())))))()))())()()((((()()()()()()((((((())())(((()())()((()()(((()()()))(((((()))(((()(()()()(()(()(((())()))(()(((()((())()(()())())))((()()()(()()(((()))(((()((((()(((((()()(()())((()())())(()((((((()(()()))((((()))))())((())()()((()(()))))((((((((()))(()()(((())())(())()((()()()()((()((()((()()(((())))(()((())()((((((((()((()(()()(((())())())))(())())))()((((()))))))())))()()))()())((()())()((()()()))(()()(((()(())((((())())((((((((()()()()())))()()()((((()()))))))()((((()(((()))(()()())))((()()(((()))()()())())(((())((()()(())()()()(((())))))()())((()))()))((())()()())()())()()(()))())))())()))(())((()(())))(()(())(()))))(()(())())(()(())(()(()))))((()())()))()((((()()))))())))()()())((())()((()()()))()(((()(()))))(())()()))(((()())))))))))(((())))()))())()))))()()(((())))))))()(()()(()))((()))))((())))((()((())))())))()()(()))())()(()((()())(()(()()())())(()()))()))))(()())()()))()()()()))(()(()(()))))))()(()))()))()()(()((())(()(())))()(((())(())())))))()(()(()))))()))(()()()(())()(()(())))()))))()()(((((())))))())()())())())()())()))))()))))))))())()()()()()()())))()))((())()))())))()((())()))))()))())))))))())()()()))()()(()((((()(((((((()(())((()())((()()))()))))(())))()()()(())((())()())))(())))(())))(((()()))()(())(((()(()))((())))())()))((((()))())()))))))))()(())())))(()))()(()()))())()()(())())))())()()(()())))()((()())(()(())(())))))))))))))(()))))()))))))()()())(()(((((()(()())))())()))(()))()))(()()))()())(()))())()(())((()()))))))())))())()(((())))(()(()))()()))()(()))))))((()())(()))))))()())))()()))))))))((((((((()()()(()))))))()())))())))()()((())()))((())(())))())())))()()()((()((()(())))())()(())))))))))()())))()()()()()()))()))((())())(()(()))))))(()()))()))(())))()))))))))))))(()))))))))()))))()))()())()))()()))))))()))))((()))))(()))())()(())))(()())((((()())))()))))(()))()(()()(())))))())))))()))))))())))())))))())))())())))())(()))))(())()(())))())()))((()()))))))())))((())))))))())))(())))))()()())))))())))))()))))))()))()()()(()(((()())())())(()))())))))((()(())(()))))))))(())))()()()())())(()))))()()()))()))())())())()(())))()(((()((((())))))))()))))))))))))))))))))((())()())(()))))()()))))))(()()(())())))())))((())))((())))))))))))))()))))()(()))))))())))))()))(()()())(()())))))))))()))))))(())))))()()))()())(((())))()))(()))))))))(())())))())))())())())()()))((())()(())()())()))()())(())(()))))()())))(()(((()))))))()(()())()()()))()))))))))()()()(())()())()(((((()))()())())(()))))()()()(())))())))()((()())))(()))())()(()())())(()))()()))((()()))((()()()()())))(())()))(()(())))((()()))))))))())))))))())()()))))))))))))))))(())()(())(())()())())()))()(()))))())())))))()())()(()))()()(())))(())())))))(()))))))))))))))())())(())(())))(((()))()))))())((())(()))())))))))())))))())))()))()))))))))))))())()))))()))))((()))(())))()(())))(())()))()))())))())))))))()(()())())))()()())))(())))))(()))))))))))))(()))()))()))())))(((()()()(())((()())))()())(((()))(())()))((()()()())))())(())(()))))()(((((())))(()))())())))))))((((()()()))())())()(()(()())))))))))()())())))(())))()())(((()(())())()()))())())))))))((()())((()()(()))(()(())))()))()))(()))(()))()()(()(((())((((()))()(()))((())()(()(()())()(()))()())))))(()))()))())()())))())))(())))((())(()())))))()))(())(()))()())()(()()((()(()))))))()(())(()())(())()))(((())()))(()()(()()()))))(()(())))()))))())))))())(()()()()()()(((())))(()()))()((())(((((()()())))(()))(()))()()))(((())())()(((()()()()))))(()))(())())))()())(()()())())))))))()))))((())))()())(()))(()(()))())))))())(())))))()()())())()))()()(())))(()))(())((((((())(()))(()))())()))(()()(())))()))(()()))()))()(())))(())))((()(()))(())()()())())))(((()()())(())()))))))()(((()(((((()()(((())(())))())()((()))))((()())()(())(((())))(((()((()(()(()))(()()))())(()))(())(())))()))))))((((()))()((((()(()))()))()()))))()(()(()))()(()((()(((()(()()(((()))))()(((()(()(()(((()(()())())()()(()(()())())(()((((())(()))()))(((((()()())(())()((()()())))()()(((()()))()((((((((()(())))())((()))))(())))(()))))((()((((()()(())(((((()))(((((((((((((()())))((((()(((()((())())()))((()))()(()()((()()()()(()()(()(()(((())()(()((((((()((()()((())()((((()((()()(()()())((()()()((()((())()(()(((()((())((((())(()))((()(()))(()())()((((((((()(((((((((((()))(()(((()(()()()((((())((())()())()))(())((())(()))(((()((()(())))(()))))((()()))))((((()(()(()())(()(())((((((((()((((()((()(((((()))())()(()))(()()((()(())(((((()(())()(((((()()))))))()(((())()(()()((((())()((())((()(((())(((()))((()()((((()(())))))((()((((()((()((()(((())((()))(((((((()(((()((((((((())()))((((())(((((()((((((((()(((()((()(((()()(((()((((((()()(()((((((((()()(()(()(())((((()())()))))(((()))((((())((((()())((()(())()((()((((((()((((((()(())))()())(((())())())()(())()(()())((()()((((())((((((())(()(((((()((((())()((((()(()(())(()())(((())()((())((((()))()((((((())(()(((()(((()((((((()(((()))(()()())())((()((()())()((((())(((()(()(((((((((())(())))()((()()()()(())((()))(((((((()(((((((((()(()))))(()((((((((()((((()((()()((((((()()(((((((()(()(())()(())((()()()((()(((((()())()(((((()())()()((()(()())(()()()(((()()(((((()((((((()()((()(()()()((((((((((((()((((((((()()(((()())))()(((()()(())())((((()((((()((((()()()(())(())((()(()(((((((((((((((()(())(())))))()()))((()(((()(())((()(((()(()()((((()()(((()(((()(((((()()((()(()(((()))((((((()((((((((()((()((())(((((()(((())(())())((()()))((((())()()((()(((()(((((()()(((()))(((()(()(((((((((((((()))((((((((()(((()))))())((((((((((((())((())((()())(((())((())(()((((((((((()(((())((()()(()((())(((((((((((()))((((((((((((()(()())((()((()((()(()(((()((((((((()()(()((()(()(((()))((()))(((((((((((((()(())((((((())(((()(())(()(()(()((()()))((((()((((()((((())))())((((()((((()))((((((()((((((()((()(((())))((())(()))(()((()((((()((()(((()()))((((()()()(((((((())(((())(()))())((((()())(((()(((((((((((()(()(()((()(((((((((((((((()()((((()((((((((()(((()()((()((((()))(((()(())((((((()((((())()((((()((()))(())()(()(((()((())())((((((()(()(())())(((())(()(()())(((((()((()((())()())(())))(((()(())))))))(((()(((()))()((()(((()()((()())()()))())))(((()))(()(((()(((((((((()(()(((((()()(((()())()()))))()(((()))(((()(()(()(()(()))()(())()))(()(((())))(()))))))))))(())((()((())((()(())()(())((()()((((()()((()()))((())(((()((()(())(())))()(()(((((()((()))())()(((((()()(((()(()((((((())(()))(())()))((()(()()))(())())()))(((())))(()((()(((())(())())))((()()((((((((((((((()((()(()()(()(((()))())()()((()()()(())(()))(()())(((())((())()(())()()(()()(())))((()(((()))))(((()()(()()))())((()((())()))((((()()()())((())))(((()(())(((((()(((((()((()(()((((()()(((()()()(((()())(((()()((((())(()))(((()))(())())((()))(((()((()))(((()()((())((()(((((()((((()()())((()))()((((()((()(()()()('"
   ]
  },
  {
   "cell_type": "code",
   "execution_count": 7,
   "metadata": {
    "collapsed": false
   },
   "outputs": [
    {
     "data": {
      "text/plain": [
       "232"
      ]
     },
     "execution_count": 7,
     "metadata": {},
     "output_type": "execute_result"
    }
   ],
   "source": [
    "# Pesonal assigment answer:\n",
    "decode_floor(personal_str)"
   ]
  },
  {
   "cell_type": "markdown",
   "metadata": {
    "collapsed": true
   },
   "source": [
    "## Part 2"
   ]
  },
  {
   "cell_type": "code",
   "execution_count": 8,
   "metadata": {
    "collapsed": true
   },
   "outputs": [],
   "source": [
    "# Python is not good at tail recursion (optimization). Let's try and see how bad it is.\n",
    "\n",
    "def decode_floor_rec(str, curlev = 0):\n",
    "    \"\"\"Return the destination floor for a given instruction string. Recursive version.\"\"\"\n",
    "    \n",
    "    if len(str) == 0:\n",
    "        return curlev\n",
    "    inc = { '(' : 1,\n",
    "            ')' : -1,\n",
    "          }[str[0]]\n",
    "\n",
    "    #if str[0] == '(':\n",
    "    #    inc = 1\n",
    "    #elif str[0] == ')':\n",
    "    #    inc = -1\n",
    "    #else:\n",
    "    #    print 'Ignoring invalid character \\'', str[0], '\\'.'\n",
    "    #    inc = 0\n",
    "\n",
    "    return decode_floor_rec(str[1:], curlev + inc)\n"
   ]
  },
  {
   "cell_type": "code",
   "execution_count": 9,
   "metadata": {
    "collapsed": false
   },
   "outputs": [
    {
     "data": {
      "text/plain": [
       "0"
      ]
     },
     "execution_count": 9,
     "metadata": {},
     "output_type": "execute_result"
    }
   ],
   "source": [
    "decode_floor_rec('')"
   ]
  },
  {
   "cell_type": "code",
   "execution_count": 23,
   "metadata": {
    "collapsed": false
   },
   "outputs": [],
   "source": [
    "class TestDFrec(unittest.TestCase):\n",
    "    def test_empty(self):\n",
    "        self.assertEqual(decode_floor_rec(''), 0)\n",
    "        \n",
    "    def test_pos1(self):\n",
    "        self.assertEqual(decode_floor_rec('((('), 3)\n",
    "    \n",
    "    def test_neg1(self):\n",
    "        self.assertEqual(decode_floor_rec(')))))'),-5)\n",
    "        \n",
    "    def test_even1(self):\n",
    "        self.assertEqual(decode_floor_rec('(())))'),-2)\n",
    "        \n",
    "    def test_odd(self):\n",
    "        self.assertEqual(decode_floor_rec(')())((('),1)\n",
    "\n",
    "\n",
    "    # The original tests from Day 1:\n",
    "    def test_aoc1(self):\n",
    "        self.assertEqual(decode_floor_rec('(())'), 0)\n",
    "    def test_aoc2(self):\n",
    "        self.assertEqual(decode_floor_rec('()()'), 0)\n",
    "    def test_aoc3(self):\n",
    "        self.assertEqual(decode_floor_rec('((('), 3)\n",
    "    def test_aoc4(self):\n",
    "        self.assertEqual(decode_floor_rec('(()(()('), 3)\n",
    "    def test_aoc5(self):\n",
    "        self.assertEqual(decode_floor_rec('))((((('), 3)\n",
    "    def test_aoc6(self):\n",
    "        self.assertEqual(decode_floor_rec('())'), -1)\n",
    "    def test_aoc7(self):\n",
    "        self.assertEqual(decode_floor_rec('))('), -1)\n",
    "    def test_aoc8(self):\n",
    "        self.assertEqual(decode_floor_rec(')))'), -3)\n",
    "    def test_aoc9(self):\n",
    "        self.assertEqual(decode_floor_rec(')())())'), -3)\n"
   ]
  },
  {
   "cell_type": "code",
   "execution_count": 11,
   "metadata": {
    "collapsed": false
   },
   "outputs": [],
   "source": [
    "# Runtime error with recursion limit 1000. With 10000 this causes a Python.exe crash.\n",
    "# decode_floor_rec(personal_str)"
   ]
  },
  {
   "cell_type": "code",
   "execution_count": 12,
   "metadata": {
    "collapsed": true
   },
   "outputs": [],
   "source": [
    "def decode_floor_until(str, stoplev, curlev = 0, instrcount = 0):\n",
    "    \"\"\"Return the instruction number that causes the first visit to a specified 'stop' floor. Recursive version.\"\"\"\n",
    "    \n",
    "    if len(str) == 0:\n",
    "        print 'End of instruction reached. Did not pass floor', stoplev, 'yet.'\n",
    "        return\n",
    "\n",
    "    inc = { '(' : 1,\n",
    "            ')' : -1,\n",
    "          }[str[0]]\n",
    "\n",
    "    if curlev + inc == stoplev:\n",
    "        print 'Reached floor', stoplev, 'after', instrcount+1, 'instructions.'\n",
    "        return instrcount + 1\n",
    "    else:\n",
    "        return decode_floor_until(str[1:], stoplev, curlev + inc, instrcount + 1)"
   ]
  },
  {
   "cell_type": "code",
   "execution_count": 13,
   "metadata": {
    "collapsed": false
   },
   "outputs": [
    {
     "name": "stdout",
     "output_type": "stream",
     "text": [
      "End of instruction reached. Did not pass floor -1 yet.\n"
     ]
    }
   ],
   "source": [
    "decode_floor_until('((()))', -1)"
   ]
  },
  {
   "cell_type": "code",
   "execution_count": 14,
   "metadata": {
    "collapsed": false
   },
   "outputs": [],
   "source": [
    "class TestDFrec(unittest.TestCase):\n",
    "    def test_empty(self):\n",
    "        self.assertEqual(decode_floor_until('', -1), None)\n",
    "        \n",
    "    def test_pos1(self):\n",
    "        self.assertEqual(decode_floor_until('(((', -1), None)\n",
    "    \n",
    "    def test_neg1(self):\n",
    "        self.assertEqual(decode_floor_until(')))))', -1),1)\n",
    "        \n",
    "    def test_even1(self):\n",
    "        self.assertEqual(decode_floor_until('(())))', -1),5)\n",
    "        \n",
    "    def test_odd(self):\n",
    "        self.assertEqual(decode_floor_until(')())(((', -1),1)\n",
    "\n",
    "\n",
    "    # The original tests from Day 1:\n",
    "    def test_aoc1(self):\n",
    "        self.assertEqual(decode_floor_until('(())', -1), None)\n",
    "    def test_aoc2(self):\n",
    "        self.assertEqual(decode_floor_until('()()', -1), None)\n",
    "    def test_aoc3(self):\n",
    "        self.assertEqual(decode_floor_until('(((', -1), None)\n",
    "    def test_aoc4(self):\n",
    "        self.assertEqual(decode_floor_until('(()(()(', -1), None)\n",
    "    def test_aoc5(self):\n",
    "        self.assertEqual(decode_floor_until('))(((((', -1), 1)\n",
    "    def test_aoc6(self):\n",
    "        self.assertEqual(decode_floor_until('())', -1), 3)\n",
    "    def test_aoc7(self):\n",
    "        self.assertEqual(decode_floor_until('))(', -1), 1)\n",
    "    def test_aoc8(self):\n",
    "        self.assertEqual(decode_floor_until(')))', -1), 1)\n",
    "    def test_aoc9(self):\n",
    "        self.assertEqual(decode_floor_until(')())())', -1), 1)\n"
   ]
  },
  {
   "cell_type": "code",
   "execution_count": 33,
   "metadata": {
    "collapsed": false
   },
   "outputs": [
    {
     "name": "stderr",
     "output_type": "stream",
     "text": [
      "test_aoc1 (__main__.TestDFrec) ... ok\n",
      "test_aoc2 (__main__.TestDFrec) ... ok\n",
      "test_aoc3 (__main__.TestDFrec) ... ok\n",
      "test_aoc4 (__main__.TestDFrec) ... ok\n",
      "test_aoc5 (__main__.TestDFrec) ... ok\n",
      "test_aoc6 (__main__.TestDFrec) ... ok\n",
      "test_aoc7 (__main__.TestDFrec) ... ok\n",
      "test_aoc8 (__main__.TestDFrec) ... ok\n",
      "test_aoc9 (__main__.TestDFrec) ... ok\n",
      "test_empty (__main__.TestDFrec) ... ok\n",
      "test_even1 (__main__.TestDFrec) ... ok\n",
      "test_neg1 (__main__.TestDFrec) ... ok\n",
      "test_odd (__main__.TestDFrec) ... ok\n",
      "test_pos1 (__main__.TestDFrec) ... "
     ]
    },
    {
     "name": "stdout",
     "output_type": "stream",
     "text": [
      "End of instruction reached. Did not pass floor -1 yet.\n",
      "End of instruction reached. Did not pass floor -1 yet.\n",
      "End of instruction reached. Did not pass floor -1 yet.\n",
      "End of instruction reached. Did not pass floor -1 yet.\n",
      "Reached floor -1 after 1 instructions.\n",
      "Reached floor -1 after 3 instructions.\n",
      "Reached floor -1 after 1 instructions.\n",
      "Reached floor -1 after 1 instructions.\n",
      "Reached floor -1 after 1 instructions.\n",
      "End of instruction reached. Did not pass floor -1 yet.\n",
      "Reached floor -1 after 5 instructions.\n",
      "Reached floor -1 after 1 instructions.\n",
      "Reached floor -1 after 1 instructions.\n",
      "End of instruction reached. Did not pass floor -1 yet.\n"
     ]
    },
    {
     "name": "stderr",
     "output_type": "stream",
     "text": [
      "ok\n",
      "\n",
      "----------------------------------------------------------------------\n",
      "Ran 14 tests in 0.013s\n",
      "\n",
      "OK\n"
     ]
    },
    {
     "data": {
      "text/plain": [
       "<unittest.runner.TextTestResult run=14 errors=0 failures=0>"
      ]
     },
     "execution_count": 33,
     "metadata": {},
     "output_type": "execute_result"
    }
   ],
   "source": [
    "suite = unittest.TestLoader().loadTestsFromTestCase(TestDFrec)\n",
    "unittest.TextTestRunner(verbosity=3).run(suite)"
   ]
  },
  {
   "cell_type": "code",
   "execution_count": 15,
   "metadata": {
    "collapsed": false
   },
   "outputs": [
    {
     "name": "stdout",
     "output_type": "stream",
     "text": [
      "Reached floor 10 after 34 instructions.\n"
     ]
    },
    {
     "data": {
      "text/plain": [
       "34"
      ]
     },
     "execution_count": 15,
     "metadata": {},
     "output_type": "execute_result"
    }
   ],
   "source": [
    "decode_floor_until(personal_str, 10)"
   ]
  },
  {
   "cell_type": "code",
   "execution_count": 39,
   "metadata": {
    "collapsed": false
   },
   "outputs": [
    {
     "name": "stdout",
     "output_type": "stream",
     "text": [
      "Reached floor -1 after 1783 instructions.\n"
     ]
    }
   ],
   "source": [
    "# Try recursion brute-force:\n",
    "\n",
    "import sys\n",
    "\n",
    "# Increase recursion limit\n",
    "dflt = sys.getrecursionlimit()\n",
    "sys.setrecursionlimit(10000)\n",
    "\n",
    "decode_floor_until(personal_str, -1)\n",
    "\n",
    "# Restore default recursion limit\n",
    "sys.setrecursionlimit(dflt)\n"
   ]
  },
  {
   "cell_type": "code",
   "execution_count": null,
   "metadata": {
    "collapsed": true
   },
   "outputs": [],
   "source": [
    "# TODO: use list comprehension or something else to avoid the recursion limitations."
   ]
  }
 ],
 "metadata": {
  "kernelspec": {
   "display_name": "Python 2",
   "language": "python",
   "name": "python2"
  },
  "language_info": {
   "codemirror_mode": {
    "name": "ipython",
    "version": 2
   },
   "file_extension": ".py",
   "mimetype": "text/x-python",
   "name": "python",
   "nbconvert_exporter": "python",
   "pygments_lexer": "ipython2",
   "version": "2.7.10"
  }
 },
 "nbformat": 4,
 "nbformat_minor": 0
}
